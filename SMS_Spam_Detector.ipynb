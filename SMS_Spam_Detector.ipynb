{
  "cells": [
    {
      "cell_type": "markdown",
      "metadata": {
        "id": "kYfZQWfejKkt"
      },
      "source": [
        "# **LOAD DATA**"
      ]
    },
    {
      "cell_type": "code",
      "execution_count": null,
      "metadata": {
        "id": "MVC51_Pw9Q51"
      },
      "outputs": [],
      "source": [
        "import numpy as np\n",
        "import pandas as pd\n",
        "import re\n",
        "import string\n",
        "\n",
        "import seaborn as sns\n",
        "import matplotlib.pyplot as plt\n",
        "%matplotlib inline\n",
        "\n",
        "import warnings\n",
        "warnings.filterwarnings(\"ignore\")"
      ]
    },
    {
      "cell_type": "code",
      "execution_count": null,
      "metadata": {
        "id": "DOipuRA2Sne2"
      },
      "outputs": [],
      "source": [
        "data = pd.read_csv(\"/content/Dataset_Spam.txt\", sep = \"\\t\", names=[\"label\", \"message\"])"
      ]
    },
    {
      "cell_type": "code",
      "execution_count": null,
      "metadata": {
        "id": "UD3Bj3eHGCqf"
      },
      "outputs": [],
      "source": [
        "data = data.drop_duplicates()"
      ]
    },
    {
      "cell_type": "code",
      "execution_count": null,
      "metadata": {
        "id": "yFZHbChZGFuF"
      },
      "outputs": [],
      "source": [
        "data.shape"
      ]
    },
    {
      "cell_type": "code",
      "execution_count": null,
      "metadata": {
        "id": "KdlgCi50GHIv"
      },
      "outputs": [],
      "source": [
        "plt.figure(figsize=(9, 5))\n",
        "\n",
        "plt.pie(data['label'].value_counts(),labels=['ham','spam'],autopct='%0.2f', colors=['Green', 'Red'], explode = [.1, .1])\n",
        "plt.show()"
      ]
    },
    {
      "cell_type": "code",
      "execution_count": null,
      "metadata": {
        "id": "lrO8SMPsGsIO"
      },
      "outputs": [],
      "source": [
        "import nltk\n",
        "from nltk.tokenize import word_tokenize\n",
        "nltk.download('punkt')"
      ]
    },
    {
      "cell_type": "code",
      "execution_count": null,
      "metadata": {
        "id": "JSChoAdKHEKt"
      },
      "outputs": [],
      "source": [
        "data['num_characters']=data['message'].apply(len)\n",
        "data['num_words']=data['message'].apply(lambda x:len(nltk.word_tokenize(x)))\n",
        "data['num_sentences']=data['message'].apply(lambda x: len(nltk.sent_tokenize(x)))"
      ]
    },
    {
      "cell_type": "code",
      "execution_count": null,
      "metadata": {
        "id": "jMCxcG8aHpX5"
      },
      "outputs": [],
      "source": [
        "data[data['label']=='ham'][['num_characters','num_words','num_sentences']].describe()"
      ]
    },
    {
      "cell_type": "code",
      "execution_count": null,
      "metadata": {
        "id": "o0Z1-jrjHvv-"
      },
      "outputs": [],
      "source": [
        "data[data['label']=='spam'][['num_characters','num_words','num_sentences']].describe()"
      ]
    },
    {
      "cell_type": "markdown",
      "metadata": {
        "id": "AmC9W0lrH2BF"
      },
      "source": [
        "***We can clearly see the spam messages are quite longer than the ham messages.***"
      ]
    },
    {
      "cell_type": "code",
      "execution_count": null,
      "metadata": {
        "id": "6NAN2PwcH3I_"
      },
      "outputs": [],
      "source": [
        "plt.figure(figsize=(10,4))\n",
        "sns.histplot(data[data['label']=='ham']['num_characters'],color='green')\n",
        "sns.histplot(data[data['label']=='spam']['num_characters'],color = 'red')"
      ]
    },
    {
      "cell_type": "code",
      "execution_count": null,
      "metadata": {
        "id": "t2ZQoRaEIAYv"
      },
      "outputs": [],
      "source": [
        "plt.figure(figsize=(10,4))\n",
        "sns.histplot(data[data['label']=='ham']['num_words'],color='green')\n",
        "sns.histplot(data[data['label']=='spam']['num_words'],color='red')"
      ]
    },
    {
      "cell_type": "code",
      "execution_count": null,
      "metadata": {
        "id": "TaJRgzgZcGkc"
      },
      "outputs": [],
      "source": [
        "!pip install wordcloud\n",
        "from wordcloud import WordCloud"
      ]
    },
    {
      "cell_type": "code",
      "execution_count": null,
      "metadata": {
        "id": "FYbATuzQcNnH"
      },
      "outputs": [],
      "source": [
        "ham_msg_text = data[data.label == 'ham'].message\n",
        "spam_msg_text = data[data.label == 'spam'].message"
      ]
    },
    {
      "cell_type": "code",
      "execution_count": null,
      "metadata": {
        "id": "3XsLQOS3cSCR"
      },
      "outputs": [],
      "source": [
        "plt.figure(figsize = (10, 12))\n",
        "\n",
        "wc = WordCloud(width = 1500, height = 900, max_words = 2500).generate(\" \".join(ham_msg_text))\n",
        "plt.imshow(wc, interpolation='bilinear')"
      ]
    },
    {
      "cell_type": "code",
      "execution_count": null,
      "metadata": {
        "id": "enHR1pGFcsyh"
      },
      "outputs": [],
      "source": [
        "plt.figure(figsize = (10, 12))\n",
        "\n",
        "wc = WordCloud(width = 1500, height = 900, max_words = 2500).generate(\" \".join(spam_msg_text))\n",
        "plt.imshow(wc, interpolation='bilinear')"
      ]
    },
    {
      "cell_type": "markdown",
      "metadata": {
        "id": "NeOJ23DNc5cQ"
      },
      "source": [
        "# **PREPROCESSING**"
      ]
    },
    {
      "cell_type": "code",
      "execution_count": null,
      "metadata": {
        "id": "yGEMW67pc8Em"
      },
      "outputs": [],
      "source": [
        "def remove_punc(text):\n",
        "  trans = str.maketrans('', '', string.punctuation)\n",
        "  return text.translate(trans)\n",
        "def remove_noise(text):\n",
        "  t = re.sub('[^a-zA-Z]', ' ', text)\n",
        "  return t\n",
        "\n",
        "data['message'] = data['message'].apply(remove_punc)\n",
        "data['message'] = data['message'].apply(remove_noise)"
      ]
    },
    {
      "cell_type": "code",
      "execution_count": null,
      "metadata": {
        "id": "nT9pabRQduj_"
      },
      "outputs": [],
      "source": [
        "nltk.download('stopwords')\n",
        "from nltk.corpus import stopwords\n",
        "sw = stopwords.words('english')\n",
        "def remove_sws(text):\n",
        "  s = [word.lower() for word in text.split() if word.lower() not in sw]\n",
        "  return \" \".join(s)\n",
        "\n",
        "data['message'] = data['message'].apply(remove_sws)"
      ]
    },
    {
      "cell_type": "code",
      "execution_count": null,
      "metadata": {
        "id": "IQZBjkRzeTrO"
      },
      "outputs": [],
      "source": [
        "nltk.download('wordnet')\n",
        "nltk.download('punkt')\n",
        "nltk.download('omw-1.4')\n",
        "from nltk.stem import WordNetLemmatizer\n",
        "lemmatizer = WordNetLemmatizer()\n",
        "\n",
        "def lemma(text):\n",
        "  l = [lemmatizer.lemmatize(word) for word in text.split()]\n",
        "  return \" \".join(l)\n",
        "\n",
        "data['message'] = data['message'].apply(lemma)"
      ]
    },
    {
      "cell_type": "code",
      "execution_count": null,
      "metadata": {
        "id": "aJsiw3zeeZzC"
      },
      "outputs": [],
      "source": [
        "from sklearn.preprocessing import LabelEncoder\n",
        "encoder =LabelEncoder()\n",
        "\n",
        "data['label']=encoder.fit_transform(data['label'])\n",
        "data = data[['label','message']]"
      ]
    },
    {
      "cell_type": "markdown",
      "metadata": {
        "id": "L3__F_0JfiNb"
      },
      "source": [
        "# **CONVERT WORDS TO VECTORS**"
      ]
    },
    {
      "cell_type": "code",
      "execution_count": null,
      "metadata": {
        "id": "nlUo6ZaEfkTg"
      },
      "outputs": [],
      "source": [
        "from sklearn.feature_extraction.text import TfidfVectorizer\n",
        "tf = TfidfVectorizer(max_features=3000)\n",
        "\n",
        "X = tf.fit_transform(data['message']).toarray()\n",
        "Y = data['label']"
      ]
    },
    {
      "cell_type": "code",
      "execution_count": null,
      "metadata": {
        "id": "YLLszjiyfpfs"
      },
      "outputs": [],
      "source": [
        "from sklearn.model_selection import train_test_split\n",
        "\n",
        "X_train, X_test, Y_train, Y_test = train_test_split(X, Y, test_size = 0.2, random_state = 32)"
      ]
    },
    {
      "cell_type": "markdown",
      "metadata": {
        "id": "fqVwrP-gf-E4"
      },
      "source": [
        "# **MAKE THE MODEL**"
      ]
    },
    {
      "cell_type": "code",
      "execution_count": null,
      "metadata": {
        "id": "31dY7YMBf_j4"
      },
      "outputs": [],
      "source": [
        "from sklearn.naive_bayes import BernoulliNB, MultinomialNB\n",
        "from sklearn.metrics import accuracy_score, confusion_matrix, classification_report\n",
        "\n",
        "clf = BernoulliNB()\n",
        "clf.fit(X_train, Y_train)"
      ]
    },
    {
      "cell_type": "code",
      "execution_count": null,
      "metadata": {
        "id": "x6qs8n28hCIb"
      },
      "outputs": [],
      "source": [
        "Y_pred = clf.predict(X_test)"
      ]
    },
    {
      "cell_type": "code",
      "execution_count": null,
      "metadata": {
        "id": "3MDkg96bhFMD"
      },
      "outputs": [],
      "source": [
        "print(\"Accuracy Score: \", accuracy_score(Y_test, Y_pred))"
      ]
    },
    {
      "cell_type": "code",
      "execution_count": null,
      "metadata": {
        "id": "cFvhquobhdSb"
      },
      "outputs": [],
      "source": [
        "print(classification_report(Y_test, Y_pred))"
      ]
    },
    {
      "cell_type": "markdown",
      "metadata": {
        "id": "TgtrLQYXhkrT"
      },
      "source": [
        "# **SAVE THE MODEL**"
      ]
    },
    {
      "cell_type": "code",
      "execution_count": null,
      "metadata": {
        "id": "Y3xO18BihkSS"
      },
      "outputs": [],
      "source": [
        "import pickle\n",
        "pickle.dump(tf,open('vectorizer.pkl','wb'))\n",
        "pickle.dump(clf,open('model.pkl','wb'))"
      ]
    },
    {
      "cell_type": "markdown",
      "metadata": {
        "id": "hB_rkXn8jFvO"
      },
      "source": [
        "# **RUN MODEL**"
      ]
    },
    {
      "cell_type": "code",
      "execution_count": null,
      "metadata": {
        "id": "e4Et6342jbpw"
      },
      "outputs": [],
      "source": [
        "! pip install streamlit -q\n",
        "!wget -q -O - ipv4.icanhazip.com\n",
        "! streamlit run App.py & npx localtunnel --port 8501"
      ]
    }
  ],
  "metadata": {
    "colab": {
      "provenance": [],
      "collapsed_sections": [
        "kYfZQWfejKkt",
        "NeOJ23DNc5cQ",
        "L3__F_0JfiNb",
        "fqVwrP-gf-E4",
        "TgtrLQYXhkrT",
        "hB_rkXn8jFvO"
      ]
    },
    "kernelspec": {
      "display_name": "Python 3",
      "name": "python3"
    },
    "language_info": {
      "name": "python"
    }
  },
  "nbformat": 4,
  "nbformat_minor": 0
}